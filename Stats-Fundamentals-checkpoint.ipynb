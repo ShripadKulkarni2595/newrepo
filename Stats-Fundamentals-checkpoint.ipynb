{
 "cells": [
  {
   "cell_type": "code",
   "execution_count": 1,
   "metadata": {},
   "outputs": [],
   "source": [
    "import pandas as pd\n",
    "import numpy as np\n",
    "import matplotlib.pyplot as plt\n",
    "import seaborn as sns\n",
    "from scipy import stats\n",
    "import statistics\n",
    "%matplotlib inline\n"
   ]
  },
  {
   "cell_type": "code",
   "execution_count": 6,
   "metadata": {},
   "outputs": [],
   "source": [
    "df=pd.read_excel(\"c:\\data\\marks.xlsx\")"
   ]
  },
  {
   "cell_type": "code",
   "execution_count": 9,
   "metadata": {},
   "outputs": [
    {
     "data": {
      "text/plain": [
       "79.61111111111111"
      ]
     },
     "execution_count": 9,
     "metadata": {},
     "output_type": "execute_result"
    }
   ],
   "source": [
    "df.Maths.mean()"
   ]
  },
  {
   "cell_type": "code",
   "execution_count": 10,
   "metadata": {},
   "outputs": [
    {
     "data": {
      "text/plain": [
       "Maths      79.611111\n",
       "English    72.166667\n",
       "Science    66.947368\n",
       "EVS        65.000000\n",
       "Hindi      70.684211\n",
       "dtype: float64"
      ]
     },
     "execution_count": 10,
     "metadata": {},
     "output_type": "execute_result"
    }
   ],
   "source": [
    "df.mean()"
   ]
  },
  {
   "cell_type": "code",
   "execution_count": 2,
   "metadata": {},
   "outputs": [],
   "source": [
    "#calculation of mean from an numpy array\n",
    "marks = np.random.randint(60,90,100)"
   ]
  },
  {
   "cell_type": "code",
   "execution_count": 3,
   "metadata": {
    "scrolled": false
   },
   "outputs": [
    {
     "data": {
      "text/plain": [
       "array([85, 79, 73, 89, 87, 76, 61, 86, 82, 63, 78, 65, 82, 80, 85, 86, 79,\n",
       "       64, 66, 71, 86, 69, 83, 71, 64, 81, 68, 63, 84, 87, 76, 89, 72, 78,\n",
       "       64, 63, 87, 74, 88, 67, 65, 72, 60, 82, 60, 72, 67, 75, 85, 84, 84,\n",
       "       79, 87, 65, 88, 72, 67, 75, 61, 71, 76, 84, 89, 63, 67, 69, 87, 77,\n",
       "       87, 88, 86, 66, 63, 82, 88, 81, 60, 69, 71, 64, 62, 89, 82, 68, 73,\n",
       "       69, 70, 63, 72, 71, 62, 82, 69, 76, 87, 89, 78, 71, 68, 89])"
      ]
     },
     "execution_count": 3,
     "metadata": {},
     "output_type": "execute_result"
    }
   ],
   "source": [
    "marks"
   ]
  },
  {
   "cell_type": "code",
   "execution_count": 12,
   "metadata": {
    "scrolled": true
   },
   "outputs": [
    {
     "data": {
      "text/plain": [
       "75.0"
      ]
     },
     "execution_count": 12,
     "metadata": {},
     "output_type": "execute_result"
    }
   ],
   "source": [
    "np.median(marks)"
   ]
  },
  {
   "cell_type": "code",
   "execution_count": 17,
   "metadata": {
    "scrolled": true
   },
   "outputs": [
    {
     "data": {
      "text/plain": [
       "84.0"
      ]
     },
     "execution_count": 17,
     "metadata": {},
     "output_type": "execute_result"
    }
   ],
   "source": [
    "Q3= np.percentile(marks,75)"
   ]
  },
  {
   "cell_type": "code",
   "execution_count": 43,
   "metadata": {},
   "outputs": [
    {
     "data": {
      "text/plain": [
       "4.2"
      ]
     },
     "execution_count": 43,
     "metadata": {},
     "output_type": "execute_result"
    }
   ],
   "source": [
    "arr1=np.array([1,1,1,1,2,2,2,4,4,5,6,7,8,9,10])\n",
    "arr1.mean()"
   ]
  },
  {
   "cell_type": "code",
   "execution_count": 44,
   "metadata": {
    "scrolled": false
   },
   "outputs": [
    {
     "data": {
      "text/plain": [
       "4.0"
      ]
     },
     "execution_count": 44,
     "metadata": {},
     "output_type": "execute_result"
    }
   ],
   "source": [
    "np.median(arr1)"
   ]
  },
  {
   "cell_type": "code",
   "execution_count": null,
   "metadata": {},
   "outputs": [],
   "source": []
  },
  {
   "cell_type": "code",
   "execution_count": 36,
   "metadata": {},
   "outputs": [
    {
     "data": {
      "text/plain": [
       "ModeResult(mode=array([87]), count=array([7]))"
      ]
     },
     "execution_count": 36,
     "metadata": {},
     "output_type": "execute_result"
    }
   ],
   "source": [
    "stats.mode(marks)"
   ]
  },
  {
   "cell_type": "code",
   "execution_count": 38,
   "metadata": {
    "scrolled": true
   },
   "outputs": [
    {
     "data": {
      "text/plain": [
       "<matplotlib.axes._subplots.AxesSubplot at 0x25f233f96c8>"
      ]
     },
     "execution_count": 38,
     "metadata": {},
     "output_type": "execute_result"
    },
    {
     "data": {
      "image/png": "[encoded data removed]",
      "text/plain": [
       "<Figure size 432x288 with 1 Axes>"
      ]
     },
     "metadata": {
      "needs_background": "light"
     },
     "output_type": "display_data"
    }
   ],
   "source": [
    "import seaborn as sns\n",
    "sns.distplot(marks)"
   ]
  },
  {
   "cell_type": "code",
   "execution_count": 5,
   "metadata": {},
   "outputs": [
    {
     "data": {
      "text/plain": [
       "75.29"
      ]
     },
     "execution_count": 5,
     "metadata": {},
     "output_type": "execute_result"
    }
   ],
   "source": [
    "marks.mean()"
   ]
  },
  {
   "cell_type": "code",
   "execution_count": null,
   "metadata": {},
   "outputs": [],
   "source": [
    "marks1=np.random.choice(marks,size=10)\n",
    "marks1"
   ]
  },
  {
   "cell_type": "code",
   "execution_count": null,
   "metadata": {},
   "outputs": [],
   "source": [
    "marks1.mean()"
   ]
  },
  {
   "cell_type": "code",
   "execution_count": null,
   "metadata": {},
   "outputs": [],
   "source": [
    "np.median(marks)"
   ]
  },
  {
   "cell_type": "code",
   "execution_count": null,
   "metadata": {
    "scrolled": true
   },
   "outputs": [],
   "source": [
    "np.median(marks1)"
   ]
  },
  {
   "cell_type": "code",
   "execution_count": null,
   "metadata": {},
   "outputs": [],
   "source": [
    "marks2=[1,2,3,4,3,2,4,4,5,6]\n",
    "np.median(marks2)"
   ]
  },
  {
   "cell_type": "code",
   "execution_count": null,
   "metadata": {},
   "outputs": [],
   "source": [
    "marks = np.random.randint(1,5,20)\n",
    "\n",
    "stats.mode(marks)"
   ]
  },
  {
   "cell_type": "code",
   "execution_count": null,
   "metadata": {},
   "outputs": [],
   "source": [
    "marks"
   ]
  },
  {
   "cell_type": "code",
   "execution_count": null,
   "metadata": {},
   "outputs": [],
   "source": [
    "stats.mode(marks1)"
   ]
  },
  {
   "cell_type": "code",
   "execution_count": null,
   "metadata": {},
   "outputs": [],
   "source": [
    "marks"
   ]
  },
  {
   "cell_type": "code",
   "execution_count": null,
   "metadata": {},
   "outputs": [],
   "source": [
    "np.percentile(marks,90)"
   ]
  },
  {
   "cell_type": "code",
   "execution_count": null,
   "metadata": {},
   "outputs": [],
   "source": [
    "np.median(marks)"
   ]
  },
  {
   "cell_type": "code",
   "execution_count": null,
   "metadata": {},
   "outputs": [],
   "source": [
    "#IQR = difference between 75th percentile and the 25th percentile\n",
    "IQR = np.percentile(marks,75) - np.percentile(marks,25)\n",
    "IQR\n"
   ]
  },
  {
   "cell_type": "code",
   "execution_count": null,
   "metadata": {},
   "outputs": [],
   "source": [
    "marks.min()"
   ]
  },
  {
   "cell_type": "code",
   "execution_count": null,
   "metadata": {},
   "outputs": [],
   "source": [
    "marks.max()"
   ]
  },
  {
   "cell_type": "code",
   "execution_count": null,
   "metadata": {},
   "outputs": [],
   "source": [
    "range=marks.max()-marks.min()\n",
    "range"
   ]
  },
  {
   "cell_type": "code",
   "execution_count": null,
   "metadata": {},
   "outputs": [],
   "source": [
    "a1=np.array([1,2,3,4,5])"
   ]
  },
  {
   "cell_type": "code",
   "execution_count": null,
   "metadata": {},
   "outputs": [],
   "source": [
    "a1.mean()"
   ]
  },
  {
   "cell_type": "code",
   "execution_count": null,
   "metadata": {},
   "outputs": [],
   "source": [
    "statistics.stdev(a1)"
   ]
  },
  {
   "cell_type": "code",
   "execution_count": null,
   "metadata": {},
   "outputs": [],
   "source": [
    "statistics.pstdev(a1)"
   ]
  },
  {
   "cell_type": "code",
   "execution_count": null,
   "metadata": {},
   "outputs": [],
   "source": [
    "statistics.variance(a1)"
   ]
  },
  {
   "cell_type": "code",
   "execution_count": null,
   "metadata": {},
   "outputs": [],
   "source": [
    "statistics.pvariance(a1)"
   ]
  },
  {
   "cell_type": "code",
   "execution_count": null,
   "metadata": {},
   "outputs": [],
   "source": [
    "#skewness and Kurtosis\n",
    "stats.kurtosis(marks)"
   ]
  },
  {
   "cell_type": "code",
   "execution_count": null,
   "metadata": {},
   "outputs": [],
   "source": [
    "stats.skew(marks)"
   ]
  },
  {
   "cell_type": "code",
   "execution_count": null,
   "metadata": {},
   "outputs": [],
   "source": [
    "np.percentile(marks,20)"
   ]
  },
  {
   "cell_type": "code",
   "execution_count": null,
   "metadata": {},
   "outputs": [],
   "source": [
    "range = marks.max()-marks.min()\n",
    "range"
   ]
  },
  {
   "cell_type": "code",
   "execution_count": null,
   "metadata": {},
   "outputs": [],
   "source": []
  },
  {
   "cell_type": "markdown",
   "metadata": {},
   "source": [
    "plotting the graph of means of the samples, will always follow normal distribution and the Standard Deviation of this distribution is called the Standard Error(SE)"
   ]
  },
  {
   "attachments": {
    "distribution_function.PNG": {
     "image/png": "[encoded data removed]"
    }
   },
   "cell_type": "markdown",
   "metadata": {},
   "source": [
    "<b><font color = blue size=4>Definitions:</font></b><br>\n",
    "PMF (Probability Mass Function) :PMF is a function that gives the probability that a discrete random variable is exactly equal to some value<br>\n",
    "PDF (Probability Density Function) : PDF of a continuous random variable, is a function whose value at any given sample (or point) in the sample space (the set of possible values taken by the random variable) can be interpreted as providing a relative likelihood that the value of the random variable would equal that sample<br>\n",
    "CDF(Cumulative Distribution Function): CDF  is the probability that the variable takes a value less than or equal to x. \n",
    "\n",
    "![distribution_function.PNG](attachment:distribution_function.PNG)\n"
   ]
  },
  {
   "cell_type": "markdown",
   "metadata": {},
   "source": [
    "<font color = red size=4> <b> Distributions</font></b><br>\n",
    " Definition: A distribution in statistics is a function that shows the possible values for a variable and how often they occur.<br>\n",
    " Discrete variables follow : Binomial, Poisson, Hyper Geometric distributions<br>\n",
    " Continuous variables follow : Uniform, Exponential, Normal Distributions"
   ]
  },
  {
   "cell_type": "markdown",
   "metadata": {},
   "source": [
    "# Binomial Distribution"
   ]
  },
  {
   "attachments": {
    "binom_func.PNG": {
     "image/png": "[encoded data removed]"
    }
   },
   "cell_type": "markdown",
   "metadata": {},
   "source": [
    "\n",
    "\n",
    "Definition: The binomial distribution model deals with finding the probability of success of an event which has only two possible outcomes in a series of experiments. For example, tossing of a coin always gives a head or a tail. The probability of finding exactly 3 heads in tossing a coin repeatedly for 10 times is estimated during the binomial distribution.<br>\n",
    "\n",
    "Before applying Binomial distribution function to the problem we have to get \"YES\" for the following four questions<br>\n",
    "1. Is there a number of trials?<br>\n",
    "2. Are there only two possibilities?<br>\n",
    "3. Are the outcomes independent of each other?<br>\n",
    "4. Does the probability of success remain the same for each trial?<br>\n",
    "\n",
    "Example: In Moses Lake 7.9% of workers carpool to work. You conduct a sample survey of 41 workers\n",
    "\n",
    "![binom_func.PNG](attachment:binom_func.PNG)"
   ]
  },
  {
   "cell_type": "markdown",
   "metadata": {},
   "source": [
    "\n",
    "Example: In Moses Lake 7.9% of workers carpool to work. You conduct a sample survey of 41 workers<br>\n",
    "1. What distribution it follows?<br> \n",
    "   Distribution : B(41,0.079) <br>\n",
    "2. How many could you expect to carpool?<br>\n",
    "   mu = n * p = 41 * 0.079 = 3.239 workers <br> \n",
    "3. what is the Standard Deviation?<br>\n",
    "   SD = SQRT(n * p * q) = sqrt(41 * 0.079 * 0.921) = 1.727<br>\n",
    "4. What is the probability exactly 3 out of 41 carpool to work?<br>\n",
    "   P(x=3) = PMF(41,0.079,3) = 0.2304<br>\n",
    "5. what is the probability that my survey less than the expected value of carpool to work?<br>\n",
    "   P( x< 3.239) = P ( x<= 3) = P(x=0)+P(x=1)+P(x=2)+P(x=3) = CDF(x=3) = BinomCDF(41,0.079,3)=0.59173<br>\n",
    "6. What is the probability more than 4 use carpool?<br>\n",
    "   P(x > 4) = 1 - P(x <=4) = 0.8122\n"
   ]
  },
  {
   "cell_type": "code",
   "execution_count": null,
   "metadata": {},
   "outputs": [],
   "source": [
    "from scipy.stats import binom\n",
    "\n",
    "n,p=41,0.079 # Number of samples is n and prob of carpool is 0.079\n",
    "\n",
    "#binom.stats(n, p, moments='mvsk')\n",
    "binom.mean(n,p)"
   ]
  },
  {
   "cell_type": "code",
   "execution_count": null,
   "metadata": {
    "scrolled": true
   },
   "outputs": [],
   "source": [
    "from scipy.stats import binom\n",
    "\n",
    "n,p=41,0.79 # Number of samples is n and prob of carpool is 0.079\n",
    "\n",
    "mean, var, skew, kurt = binom.stats(n, p, moments='mvsk')\n",
    "print(\"Mean of the distribution     = \",mean)\n",
    "print(\"Skewness of the distribution = \",skew)\n",
    "print(\"Kurtosis of the distribution = \",kurt)\n",
    "print(\"Variance of the distribution = \",var)\n",
    "print(\"SD of the distribution       = \",np.sqrt(var))\n",
    "\n",
    "print(\"SD of the distribution       = \",binom.std(n,p))\n",
    "\n",
    "print(\"Probability of 3 out of 41 for carpool                                      = \",binom.pmf(3,41,0.079))\n",
    "print(\"probability that my survey less than the expected value of carpool to work  = \",binom.cdf(3,41,0.079))\n",
    "print(\"the probability more than 4 use carpool                                     = \",(1-binom.cdf(4,41,0.079)))\n",
    "#print(\"The entropy of the distribution : \",binom.entropy(n,p,loc=0))\n",
    "print(\"The probability of 5 out of 41 for carpool   =  \",binom.pmf(6,41,0.079))"
   ]
  },
  {
   "cell_type": "code",
   "execution_count": null,
   "metadata": {},
   "outputs": [],
   "source": [
    "print(\"Probability of 3 out of 41 for carpool                                      = \",binom.pmf(3,41,0.079))"
   ]
  },
  {
   "cell_type": "code",
   "execution_count": null,
   "metadata": {},
   "outputs": [],
   "source": [
    "print(\"Probability of 3 out of 41 for carpool                                      = \",binom.pmf(3,41,0.079,loc=1))"
   ]
  },
  {
   "cell_type": "code",
   "execution_count": null,
   "metadata": {
    "scrolled": true
   },
   "outputs": [],
   "source": [
    "fig, ax = plt.subplots(1, 1)\n",
    "n,p=41,0.79\n",
    "\n",
    "x=np.arange(0,41)\n",
    "\n",
    "\n",
    "ax.plot(x, binom.pmf(x, n, p), 'bo', ms=8, label='binom pmf')\n",
    "ax.vlines(x, 0, binom.pmf(x, n, p), colors='b', lw=5, alpha=1)\n",
    "\n",
    "ax.legend(loc='best', frameon=False)\n",
    "plt.show()\n",
    "\n"
   ]
  },
  {
   "cell_type": "code",
   "execution_count": null,
   "metadata": {},
   "outputs": [],
   "source": []
  },
  {
   "cell_type": "code",
   "execution_count": null,
   "metadata": {},
   "outputs": [],
   "source": []
  },
  {
   "attachments": {
    "poisson_func.PNG": {
     "image/png": "[encoded data removed]"
    }
   },
   "cell_type": "markdown",
   "metadata": {},
   "source": [
    "<b><font color= green size=4>Poisson distribution:</b></font>\n",
    "\n",
    "Definition: A Poisson distribution is a distribution which shows the likely number of times that an event will occur within a pre-determined period of time. It is used for independent events which occur at a constant rate within a given interval of time. The Poisson distribution is a discrete function, meaning that the event can only be counted as occurring or not as occurring, meaning the variable can only be counted in whole numbers.\n",
    "\n",
    "In brief what is the probability of success in a certain interval of time \n",
    "\n",
    "![poisson_func.PNG](attachment:poisson_func.PNG)"
   ]
  },
  {
   "cell_type": "code",
   "execution_count": null,
   "metadata": {},
   "outputs": [],
   "source": [
    "from scipy.stats import poisson\n",
    "import seaborn as sns\n",
    "\n"
   ]
  },
  {
   "cell_type": "markdown",
   "metadata": {},
   "source": [
    "Example: A certain hospital baby unit has an average of 4 births per week. A week is radomly chosen,<br>\n",
    "1. Distribution : X~P(mu)<br>\n",
    "2. Expected Value (mu) = 4 <br>\n",
    "3. Standard Deviation (sqrt(mu)) = 2<br>\n",
    "4. What is the probability that exactly 4 babies born this week?<br>\n",
    "   P(X=4) = poissonPMF(4,4) = 0.1954 <br>\n",
    "5. What is the probability of fewer than 4 births this week? <br>\n",
    "   P(X<4) = poissonCDF(4,3) = 0.4335<br>\n",
    "6. What is the probability 7 or more births occur this week?<br>\n",
    "   P(X>=7) = 1-P(X<=6) = 1 - poissonCDF(4,6) = 0.1107<br>\n",
    "\n"
   ]
  },
  {
   "cell_type": "code",
   "execution_count": null,
   "metadata": {},
   "outputs": [],
   "source": [
    "#Solution with python\n",
    "from scipy.stats import poisson\n",
    "import seaborn as sns\n",
    "\n",
    "mu = 4\n",
    "# mean, var, skew, kurt = poisson.stats(mu, moments='mvsk')\n",
    "\n",
    "# print(\"Mean of the distribution     = \",mean)\n",
    "# print(\"Mean of the distribution     = \",poisson.mean(mu))\n",
    "# print(\"Skewness of the distribution = \",skew)\n",
    "# print(\"Kurtosis of the distribution = \",kurt)\n",
    "# print(\"Variance of the distribution = \",var)\n",
    "# print(\"SD of the distribution       = \",poisson.std(mu))\n",
    "# print(\"SD of the distribution       = \",np.sqrt(var))\n",
    "\n",
    "# print(\" Probability that exactly 4 babies born this week : \",poisson.pmf(4,4,loc=0))#pmf(k,mu,loc=0)\n",
    "# print(\" Probability of fewer than 4 births this week  : \",poisson.cdf(3,4,loc=0)) # cdf(k,mu,loc=0)\n",
    "# print(\" Probability of 7 or more births occur this week  : \",1-poisson.cdf(6,4,loc=0))\n",
    "print(\" Probability of births between 3 and 6 occur this week : \",poisson.cdf(6,4,loc=3))\n",
    "print(\" Probability of births between 0 and 6 occur this week : \",poisson.cdf(6,4))\n",
    "\n",
    "print(\" Probability of births less than or equal to 3  : \",poisson.cdf(3,4))"
   ]
  },
  {
   "cell_type": "code",
   "execution_count": null,
   "metadata": {},
   "outputs": [],
   "source": [
    "fig, ax = plt.subplots(1, 1)\n",
    "mu=4\n",
    "\n",
    "x=np.arange(0,10)\n",
    "\n",
    "ax.plot(x, poisson.pmf(x, mu), 'bo', ms=8, label='Poisson pmf')\n",
    "ax.vlines(x, 0, poisson.pmf(x, mu), colors='b', lw=5, alpha=1)\n",
    "\n",
    "ax.legend(loc='best', frameon=False)\n",
    "plt.show()"
   ]
  },
  {
   "attachments": {
    "uniform_func.PNG": {
     "image/png": "[encoded data removed]"
    }
   },
   "cell_type": "markdown",
   "metadata": {},
   "source": [
    "<b><font color= green size=4>Uniform distribution:</b></font>\n",
    "\n",
    "\n",
    "Definition: Any interval of numbers of equal width has an equal probability of being observed, the curve describing the distribution is a rectangle, with constant height across the interval and 0 height elsewhere. Since the area under the curve must be equal to 1, the length of the interval determines the height of the curve\n",
    "\n",
    "![uniform_func.PNG](attachment:uniform_func.PNG)"
   ]
  },
  {
   "cell_type": "code",
   "execution_count": null,
   "metadata": {},
   "outputs": [],
   "source": [
    "from scipy.stats import uniform\n",
    "# random numbers from uniform distribution\n",
    "n = 1000\n",
    "start = 10\n",
    "width = 20\n",
    "data_uniform = uniform.rvs(size=n, loc = start, scale=width)\n",
    "ax = sns.distplot(data_uniform,\n",
    "                  bins=100,\n",
    "                  kde=True,\n",
    "                  color='skyblue',\n",
    "                  hist_kws={\"linewidth\": 15,'alpha':1})\n",
    "ax.set(xlabel='Uniform Distribution ', ylabel='Frequency')"
   ]
  },
  {
   "cell_type": "markdown",
   "metadata": {},
   "source": [
    "Example: A plumber estimates that service calls are uniformly distributed between 1/2 hour and 8 hr<br>\n",
    "1. What is the distribution: X~U(0.5,8)<br>\n",
    "2. what is the Mean ? mu=(0.5 + 8)/2 = 4.25<br>\n",
    "3. Stanard Deviation ? SD = sqrt((8-0.5)**2 / 12) = 2.165 hour<br>\n",
    "4. Probability a call takes less than 3 hours?<br>\n",
    "   P(X<3) =(3-0.5) (1/8-0.5) = 0.333<br>\n",
    "5. Probability a call takes in between 2 to 4 hours?\n",
    "   P(2< X < 4) = P(X=4) - P(X=2) = 2/7.5 = 0.2667\n",
    "6. Find 80th percentile of the distribution?\n",
    "   A=bh => 0.8 = (k-0.5) * 1/7.5 => k=6.5\n",
    "7. What is the probability a call takes exactly 5 hours?\n",
    "   P(X=5) = b * h = (5-5) * 1/7.5 = 0"
   ]
  },
  {
   "cell_type": "code",
   "execution_count": null,
   "metadata": {},
   "outputs": [],
   "source": [
    "from scipy.stats import uniform\n",
    "import matplotlib.pyplot as plt\n",
    "\n",
    "a=0.5\n",
    "b=8\n",
    "mean, var, skew, kurt = uniform.stats(b,a,moments='mvsk')\n",
    "\n",
    "print(\"Mean of the distribution     = \",mean)\n",
    "print(\"Skewness of the distribution = \",skew)\n",
    "print(\"Kurtosis of the distribution = \",kurt)\n",
    "print(\"Variance of the distribution = \",var)\n",
    "print(\"SD of the distribution       = \",uniform.std(mu))"
   ]
  },
  {
   "cell_type": "code",
   "execution_count": null,
   "metadata": {},
   "outputs": [],
   "source": []
  },
  {
   "attachments": {
    "Normal_func.PNG": {
     "image/png": "[encoded data removed]"
    }
   },
   "cell_type": "markdown",
   "metadata": {},
   "source": [
    "<b><font color= green size=4>Normal distribution:</b></font>\n",
    "\n",
    "Definition: A normal distribution has a bell-shaped density curve described by its mean μ and standard deviation σ. The density curve is symmetrical, centered about its mean, with its spread determined by its standard deviation showing that data near the mean are more frequent in occurrence than data far from the mean.\n",
    "\n",
    "![Normal_func.PNG](attachment:Normal_func.PNG)"
   ]
  },
  {
   "cell_type": "markdown",
   "metadata": {},
   "source": [
    "Example: The average exam score is 20.8 with SD of 4.8<br>\n",
    "1. What is the distribution ? X ~ N(20.8,4.8)<br>\n",
    "2. What is the probability a student can score more than 30? P(X>30)?<br>\n",
    "3. Probability a student scores less than 25?<br>\n",
    "4. Probability of a student scores between 15 and 23?<br>\n",
    "5. find the 3rd quartile of exam scores?<br>"
   ]
  },
  {
   "cell_type": "code",
   "execution_count": null,
   "metadata": {},
   "outputs": [],
   "source": []
  }
 ],
 "metadata": {
  "kernelspec": {
   "display_name": "Python 3",
   "language": "python",
   "name": "python3"
  },
  "language_info": {
   "codemirror_mode": {
    "name": "ipython",
    "version": 3
   },
   "file_extension": ".py",
   "mimetype": "text/x-python",
   "name": "python",
   "nbconvert_exporter": "python",
   "pygments_lexer": "ipython3",
   "version": "3.7.4"
  }
 },
 "nbformat": 4,
 "nbformat_minor": 2
}
