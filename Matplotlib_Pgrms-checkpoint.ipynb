{
 "cells": [
  {
   "cell_type": "markdown",
   "metadata": {},
   "source": [
    "# Matplotlib -Visualization"
   ]
  },
  {
   "cell_type": "code",
   "execution_count": 1,
   "metadata": {},
   "outputs": [],
   "source": [
    "import pandas as pd\n",
    "import matplotlib.pyplot as plt\n",
    "import numpy as np\n",
    "%matplotlib inline"
   ]
  },
  {
   "cell_type": "markdown",
   "metadata": {},
   "source": [
    "# Basic Graphs\n"
   ]
  },
  {
   "cell_type": "code",
   "execution_count": null,
   "metadata": {},
   "outputs": [],
   "source": [
    "# p1 =(1,4) ; p2=(2,5)  ; p3=(3,6)\n",
    "\n",
    "plt.plot([1,2,3],[4,5,6])\n",
    "plt.show()"
   ]
  },
  {
   "cell_type": "code",
   "execution_count": null,
   "metadata": {},
   "outputs": [],
   "source": [
    "x=[0,1,2,3] ; y=[0,4,5,6]\n",
    "plt.scatter(x,y,marker='*',color='r')\n",
    "plt.plot(x,y)\n",
    "plt.grid()"
   ]
  },
  {
   "cell_type": "code",
   "execution_count": null,
   "metadata": {},
   "outputs": [],
   "source": [
    "x=[1,2,3];y=[3,6,9]\n",
    "plt.plot(x,y)\n",
    "plt.scatter(x,y,marker='*',color='g')\n",
    "#plt.title(\"Hurray!!! It's my First Matplot graph\")\n",
    "plt.title(\"Graph between height and weight of mice\")\n",
    "plt.xlabel(\"Height of the mice\")\n",
    "plt.ylabel('weight of the mice')\n",
    "plt.grid()\n",
    "plt.show()\n",
    "\n"
   ]
  },
  {
   "cell_type": "code",
   "execution_count": null,
   "metadata": {
    "scrolled": true
   },
   "outputs": [],
   "source": [
    "#graph of y=x^2\n",
    "\n",
    "x=[-3,-2,-1,0,1,2,3];y=[9,4,1,0,1,4,9]\n",
    "plt.plot(x,y)\n",
    "plt.scatter(x,y,marker='o',color='g')\n",
    "plt.title(\"y = x^2 graph\",fontdict={'fontname':'Comic Sans MS','fontsize':15})\n",
    "plt.xlabel(\"X-Axis\")\n",
    "plt.ylabel('Y-Axis')\n",
    "plt.xticks([-3,-2,-1,0,1,2,3])\n",
    "plt.yticks([0,2,4,6,8,10])\n",
    "plt.grid()\n",
    "plt.show()"
   ]
  },
  {
   "cell_type": "code",
   "execution_count": null,
   "metadata": {},
   "outputs": [],
   "source": [
    "#draw a graph of y=(x/2)+1\n",
    "\n",
    "# draw a graph of circle of radius 2, ellipse, hyperbola"
   ]
  },
  {
   "cell_type": "code",
   "execution_count": null,
   "metadata": {},
   "outputs": [],
   "source": [
    "# Drawing two graphs in one graph paper : y = x*2  ; y= x/2\n",
    "\n",
    "\n",
    "x=[1,2,3];y=[2,4,6]\n",
    "\n",
    "plt.plot(x,y,label='y=2x',color='y',linewidth=3,marker='*',markersize=10,markeredgecolor='blue')\n",
    "\n",
    "plt.plot(y,x,label='y=x/2',color='b',linewidth=2,marker='o',markersize=10,markeredgecolor='r',linestyle='--')\n",
    "\n",
    "plt.plot(x,x,label='y=x',color='g',linewidth=2,marker='o',markersize=6,markeredgecolor='blue',linestyle='--')\n",
    "\n",
    "plt.title(\"Multiple Graphs\",fontdict={'fontname':'Comic Sans MS','fontsize':30})\n",
    "plt.xlabel(\"X-Axis\")\n",
    "plt.ylabel('Y-Axis')\n",
    "plt.xticks([0,1,2,3,4,5,6,7,8])\n",
    "plt.yticks([0,1,2,3,4,5,6,7,8])\n",
    "plt.grid()\n",
    "plt.legend()\n",
    "plt.show()"
   ]
  },
  {
   "cell_type": "code",
   "execution_count": null,
   "metadata": {},
   "outputs": [],
   "source": [
    "#Assignment : Draw a y=x/2 +1  graph\n"
   ]
  },
  {
   "cell_type": "code",
   "execution_count": null,
   "metadata": {},
   "outputs": [],
   "source": [
    "x=[1,2,3,4];y=[2,4,6,8]\n",
    "\n",
    "plt.plot(x,y,'r',label='2x')\n",
    "plt.scatter(x,y,marker = '+')\n",
    "\n",
    "plt.title(\"My First Matplot graph\")\n",
    "plt.xlabel(\"X-Axis\")\n",
    "plt.ylabel('Y-Axis')\n",
    "plt.savefig('c:\\data\\MyFirstMatplotlibGraph.png',dpi=300)\n",
    "\n",
    "plt.show()"
   ]
  },
  {
   "cell_type": "markdown",
   "metadata": {},
   "source": [
    "###Bar Chart"
   ]
  },
  {
   "cell_type": "code",
   "execution_count": null,
   "metadata": {
    "scrolled": true
   },
   "outputs": [],
   "source": [
    "X=['Boys','Girls','Teachers']\n",
    "Y=[70,40,16]\n",
    "bars=plt.bar(X,Y)\n",
    "\n",
    "\n",
    "bars[0].set_hatch('/')\n",
    "bars[1].set_hatch('O')\n",
    "bars[2].set_hatch('*')\n",
    "# plt.savefig('Bars.png',dpi=300)"
   ]
  },
  {
   "cell_type": "code",
   "execution_count": null,
   "metadata": {},
   "outputs": [],
   "source": []
  },
  {
   "cell_type": "markdown",
   "metadata": {},
   "source": [
    "# Program 2"
   ]
  },
  {
   "cell_type": "code",
   "execution_count": null,
   "metadata": {
    "scrolled": true
   },
   "outputs": [],
   "source": [
    "import matplotlib.pyplot as plt\n",
    "import numpy as np\n",
    "import pandas as pd\n",
    "\n",
    "df=pd.read_excel(\"c:\\samples\\gasprices.xlsx\")\n",
    "df"
   ]
  },
  {
   "cell_type": "code",
   "execution_count": null,
   "metadata": {},
   "outputs": [],
   "source": [
    "df.describe()"
   ]
  },
  {
   "cell_type": "code",
   "execution_count": null,
   "metadata": {},
   "outputs": [],
   "source": [
    "plt.figure(figsize=(8,6))\n",
    "plt.title(\"Gas Prices\")\n",
    "plt.xlabel('Year')\n",
    "plt.ylabel('Average Price per Gallon')\n",
    "plt.xticks(df.Year,rotation='vertical')\n",
    "# plt.xticks(df.Year)\n",
    "\n",
    "plt.plot(df.Year,df.Germany,'b.-',label=\"Germany\")\n",
    "plt.plot(df['Year'],df['Italy'],'g.-',label=\"Italy\")\n",
    "plt.plot(df.Year,df.Japan,'r.--',label=\"Japan\")\n",
    "plt.plot(df.Year,df.Mexico,'y.--',label=\"Mexico\")\n",
    "plt.plot(df.Year,df.Australia,'b.--',label=\"Australia\")\n",
    "plt.plot(df.Year,df.USA,'b*--',label=\"USA\")\n",
    "plt.grid()\n",
    "plt.legend()\n",
    "plt.show()\n"
   ]
  },
  {
   "cell_type": "markdown",
   "metadata": {},
   "source": [
    "### Histograms"
   ]
  },
  {
   "cell_type": "code",
   "execution_count": null,
   "metadata": {
    "scrolled": true
   },
   "outputs": [],
   "source": [
    "import pandas as pd\n",
    "import matplotlib.pyplot as plt\n",
    "fball=pd.read_csv(\"c:\\\\samples\\\\fifa19\\\\fifa_19.csv\")\n",
    "\n",
    "#fball.columns\n",
    "fball.head(2)"
   ]
  },
  {
   "cell_type": "code",
   "execution_count": null,
   "metadata": {},
   "outputs": [],
   "source": [
    "fball.shape"
   ]
  },
  {
   "cell_type": "code",
   "execution_count": null,
   "metadata": {},
   "outputs": [],
   "source": [
    "len(fball)"
   ]
  },
  {
   "cell_type": "code",
   "execution_count": null,
   "metadata": {},
   "outputs": [],
   "source": [
    "plt.hist(fball.Overall)\n",
    "plt.show()"
   ]
  },
  {
   "cell_type": "code",
   "execution_count": null,
   "metadata": {},
   "outputs": [],
   "source": []
  },
  {
   "cell_type": "markdown",
   "metadata": {},
   "source": [
    "###Pie charts"
   ]
  },
  {
   "cell_type": "code",
   "execution_count": null,
   "metadata": {
    "scrolled": false
   },
   "outputs": [],
   "source": [
    "left=fball.loc[fball[\"Preferred Foot\"]=='Left'].count()[0]\n",
    "right=fball.loc[fball[\"Preferred Foot\"]=='Right'].count()[0]\n",
    "\n",
    "print(left)\n",
    "print(right)"
   ]
  },
  {
   "cell_type": "code",
   "execution_count": null,
   "metadata": {},
   "outputs": [],
   "source": [
    "fball.loc[fball[\"Preferred Foot\"]=='Left'].count()[0]"
   ]
  },
  {
   "cell_type": "code",
   "execution_count": null,
   "metadata": {},
   "outputs": [],
   "source": [
    "fball.loc[fball[\"Preferred Foot\"]=='Left'].count()[0]"
   ]
  },
  {
   "cell_type": "code",
   "execution_count": null,
   "metadata": {},
   "outputs": [],
   "source": [
    "len(fball)"
   ]
  },
  {
   "cell_type": "code",
   "execution_count": null,
   "metadata": {},
   "outputs": [],
   "source": [
    "fball.loc[fball[\"Preferred Foot\"]=='Right'].count()[0]"
   ]
  },
  {
   "cell_type": "code",
   "execution_count": null,
   "metadata": {},
   "outputs": [],
   "source": [
    "#Assignment : Draw the pie chart between left and right foot for barcelona club"
   ]
  },
  {
   "cell_type": "code",
   "execution_count": null,
   "metadata": {
    "scrolled": true
   },
   "outputs": [],
   "source": [
    "label=['Left','Right']\n",
    "print(left)\n",
    "print(right)\n",
    "plt.pie([left,right],labels=label,autopct='%0.2f')\n",
    "plt.show()"
   ]
  },
  {
   "cell_type": "code",
   "execution_count": null,
   "metadata": {},
   "outputs": [],
   "source": [
    "fball['Weight'].isnull().sum()"
   ]
  },
  {
   "cell_type": "code",
   "execution_count": null,
   "metadata": {},
   "outputs": [],
   "source": [
    "fball.Weight"
   ]
  },
  {
   "cell_type": "code",
   "execution_count": null,
   "metadata": {},
   "outputs": [],
   "source": [
    "fball.Weight=[int(x.strip('lbs')) if type(x)==str else x for x in fball.Weight]\n",
    "fball.Weight\n",
    "\n",
    "       "
   ]
  },
  {
   "cell_type": "code",
   "execution_count": null,
   "metadata": {},
   "outputs": [],
   "source": [
    "x1 = '159lbs'\n",
    "type(x1)"
   ]
  },
  {
   "cell_type": "code",
   "execution_count": null,
   "metadata": {},
   "outputs": [],
   "source": [
    "x1.strip('lbs')"
   ]
  },
  {
   "cell_type": "code",
   "execution_count": null,
   "metadata": {},
   "outputs": [],
   "source": [
    "x3 = int(x1.strip('lbs'))\n",
    "type(x3)\n",
    "x3"
   ]
  },
  {
   "cell_type": "code",
   "execution_count": null,
   "metadata": {},
   "outputs": [],
   "source": [
    "# fball.loc[fball.Weight < 125].count()[0]\n",
    "fball.loc[fball.Weight < 125].count()[0]"
   ]
  },
  {
   "cell_type": "code",
   "execution_count": null,
   "metadata": {},
   "outputs": [],
   "source": [
    "light=fball.loc[fball.Weight < 125].count()[0]\n",
    "light_medium=fball.loc[(fball.Weight >=125) & (fball.Weight < 150)].count()[0]\n",
    "medium=fball.loc[(fball.Weight >=150) & (fball.Weight < 175)].count()[0]\n",
    "medium_heavy=fball.loc[(fball.Weight >=175) & (fball.Weight < 200)].count()[0]\n",
    "heavy=fball.loc[(fball.Weight >=200) ].count()[0]\n",
    "\n",
    "weights=[light,light_medium,medium,medium_heavy,heavy]"
   ]
  },
  {
   "cell_type": "code",
   "execution_count": null,
   "metadata": {},
   "outputs": [],
   "source": [
    "weights"
   ]
  },
  {
   "cell_type": "code",
   "execution_count": null,
   "metadata": {},
   "outputs": [],
   "source": [
    "labels=['light','light_med','Med','Med_hvy','Heavy']\n",
    "\n",
    "explode1=(1,0,0.0,0,1)\n",
    "\n",
    "\n",
    "plt.pie(weights,labels=labels,autopct='%0.2f',explode=explode1)\n",
    "plt.show()"
   ]
  },
  {
   "cell_type": "code",
   "execution_count": null,
   "metadata": {
    "scrolled": false
   },
   "outputs": [],
   "source": [
    "explode=(1,0,0,0,1)\n",
    "\n",
    "\n",
    "plt.pie(weights,labels=labels,autopct='%0.2f',explode=explode)\n",
    "plt.show()"
   ]
  },
  {
   "cell_type": "code",
   "execution_count": null,
   "metadata": {},
   "outputs": [],
   "source": [
    "fball.columns"
   ]
  },
  {
   "cell_type": "code",
   "execution_count": null,
   "metadata": {},
   "outputs": [],
   "source": [
    "fball.loc[fball.Club=='FC Barcelona']['Overall']"
   ]
  },
  {
   "cell_type": "code",
   "execution_count": null,
   "metadata": {},
   "outputs": [],
   "source": []
  },
  {
   "cell_type": "code",
   "execution_count": null,
   "metadata": {},
   "outputs": [],
   "source": [
    "x1=fball.loc[fball.Club=='FC Barcelona']['Overall']\n",
    "x2=fball.loc[fball.Club=='Real Madrid']['Overall']\n",
    "x3=fball.loc[fball.Club=='Chelsea']['Overall']\n"
   ]
  },
  {
   "cell_type": "code",
   "execution_count": null,
   "metadata": {},
   "outputs": [],
   "source": [
    "x1"
   ]
  },
  {
   "cell_type": "code",
   "execution_count": null,
   "metadata": {},
   "outputs": [],
   "source": [
    "labels=['FC Barcelona','Real Madrid','Chelsea']\n",
    "\n",
    "plt.title(\"Soccer Team Comparision\")\n",
    "plt.ylabel(\"FIFA Overall Rating\")\n",
    "\n",
    "plt.boxplot([x1,x2,x3],labels=labels)\n",
    "plt.show()"
   ]
  },
  {
   "cell_type": "code",
   "execution_count": null,
   "metadata": {},
   "outputs": [],
   "source": [
    "from mpl_toolkits.mplot3d import Axes3D\n",
    "import matplotlib.pyplot as plt\n",
    "fig = plt.figure()\n",
    "ax = fig.add_subplot(111, projection='3d')\n",
    "x=[1,2,6,7,3,7,8,9,10,19]\n",
    "y=[33,1,45,67,30,78,98,51,45,10]\n",
    "z=[11,38,65,23,66,78,88,45,61,18]\n",
    "ax.scatter(x, y, z)\n",
    "ax.set_xlabel('X Label')\n",
    "ax.set_ylabel('Y Label')\n",
    "ax.set_zlabel('Z Label')\n",
    "plt.show()\n",
    "plt.ioff() "
   ]
  },
  {
   "cell_type": "code",
   "execution_count": null,
   "metadata": {},
   "outputs": [],
   "source": []
  }
 ],
 "metadata": {
  "kernelspec": {
   "display_name": "Python 3",
   "language": "python",
   "name": "python3"
  },
  "language_info": {
   "codemirror_mode": {
    "name": "ipython",
    "version": 3
   },
   "file_extension": ".py",
   "mimetype": "text/x-python",
   "name": "python",
   "nbconvert_exporter": "python",
   "pygments_lexer": "ipython3",
   "version": "3.7.4"
  }
 },
 "nbformat": 4,
 "nbformat_minor": 2
}
